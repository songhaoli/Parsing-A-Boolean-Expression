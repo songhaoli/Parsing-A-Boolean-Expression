{
 "cells": [
  {
   "cell_type": "raw",
   "metadata": {},
   "source": [
    "1106 Parsing A Boolean Expression\n",
    "\n",
    "Return the result of evaluating a given boolean expression, represented as a string.\n",
    "\n",
    "An expression can either be:\n",
    "\"t\", evaluating to True;\n",
    "\"f\", evaluating to False;\n",
    "\"!(expr)\", evaluating to the logical NOT of the inner expression expr;\n",
    "\"&(expr1,expr2,...)\", evaluating to the logical AND of 2 or more inner expressions expr1, expr2, ...;\n",
    "\"|(expr1,expr2,...)\", evaluating to the logical OR of 2 or more inner expressions expr1, expr2, ..."
   ]
  },
  {
   "cell_type": "raw",
   "metadata": {},
   "source": [
    "Example 1:\n",
    "\n",
    "Input: expression = \"!(f)\"\n",
    "Output: true\n",
    "\n",
    "Example 2:\n",
    "\n",
    "Input: expression = \"|(f,t)\"\n",
    "Output: true\n",
    "\n",
    "Example 3:\n",
    "\n",
    "Input: expression = \"&(t,f)\"\n",
    "Output: false\n",
    "\n",
    "Example 4:\n",
    "\n",
    "Input: expression = \"|(&(t,f,t),!(t))\"\n",
    "Output: false"
   ]
  },
  {
   "cell_type": "code",
   "execution_count": 3,
   "metadata": {},
   "outputs": [],
   "source": [
    "def parseBoolExpr(expr: str) -> bool:\n",
    "    operators = []\n",
    "    operands = [[]]\n",
    "    for char in expr:\n",
    "        if char in ('!', '|', '&'):\n",
    "            operators.append(char)\n",
    "        elif char == '(':\n",
    "            operands.append([])\n",
    "        elif char == 't':\n",
    "            operands[-1].append(True)\n",
    "        elif char == 'f':\n",
    "            operands[-1].append(False)\n",
    "        elif char == ')':\n",
    "            op = operators.pop()\n",
    "            l = operands.pop()\n",
    "            if op == '!':\n",
    "                operands[-1].append(not l[0])\n",
    "            elif op == '&':\n",
    "                operands[-1].append(all(l))\n",
    "            elif op == '|':\n",
    "                operands[-1].append(any(l))\n",
    "    return operands[0][0]"
   ]
  }
 ],
 "metadata": {
  "kernelspec": {
   "display_name": "Python 3",
   "language": "python",
   "name": "python3"
  },
  "language_info": {
   "codemirror_mode": {
    "name": "ipython",
    "version": 3
   },
   "file_extension": ".py",
   "mimetype": "text/x-python",
   "name": "python",
   "nbconvert_exporter": "python",
   "pygments_lexer": "ipython3",
   "version": "3.7.1"
  }
 },
 "nbformat": 4,
 "nbformat_minor": 2
}
