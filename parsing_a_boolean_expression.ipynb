{
 "cells": [
  {
   "cell_type": "markdown",
   "metadata": {},
   "source": [
    "1106 Parsing A Boolean Expression\n",
    "\n",
    "Return the result of evaluating a given boolean expression, represented as a string.\n",
    "\n",
    "An expression can either be:\n",
    "\n",
    "\"t\", evaluating to True;\n",
    "\n",
    "\"f\", evaluating to False;\n",
    "\n",
    "\"!(expr)\", evaluating to the logical NOT of the inner expression expr;\n",
    "\n",
    "\"&(expr1,expr2,...)\", evaluating to the logical AND of 2 or more inner expressions expr1, expr2, ...;\n",
    "\n",
    "\"|(expr1,expr2,...)\", evaluating to the logical OR of 2 or more inner expressions expr1, expr2, ..."
   ]
  },
  {
   "cell_type": "markdown",
   "metadata": {},
   "source": [
    "Example 1:\n",
    "\n",
    "Input: expression = \"!(f)\"\n",
    "Output: true\n",
    "\n",
    "Example 2:\n",
    "\n",
    "Input: expression = \"|(f,t)\"\n",
    "Output: true\n",
    "\n",
    "Example 3:\n",
    "\n",
    "Input: expression = \"&(t,f)\"\n",
    "Output: false\n",
    "\n",
    "Example 4:\n",
    "\n",
    "Input: expression = \"|(&(t,f,t),!(t))\"\n",
    "Output: false"
   ]
  },
  {
   "cell_type": "code",
   "execution_count": 1,
   "metadata": {},
   "outputs": [],
   "source": [
    "##  Slightly faster, but less pythonic\n",
    "\n",
    "class Solution:\n",
    "    def parseBoolExpr(self, expression: str) -> bool:\n",
    "        operators = []\n",
    "        operands = [[]]\n",
    "        for char in expression:\n",
    "            if char in ('!', '|', '&'):\n",
    "                operators.append(char)\n",
    "            elif char == '(':\n",
    "                operands.append([])\n",
    "            elif char == 't':\n",
    "                operands[-1].append(True)\n",
    "            elif char == 'f':\n",
    "                operands[-1].append(False)\n",
    "            elif char == ')':\n",
    "                op = operators.pop()\n",
    "                l = operands.pop()\n",
    "                if op == '!':\n",
    "                    operands[-1].append(not l[0])\n",
    "                elif op == '&':\n",
    "                    operands[-1].append(all(l))\n",
    "                elif op == '|':\n",
    "                    operands[-1].append(any(l))\n",
    "        return operands[0][0]"
   ]
  },
  {
   "cell_type": "code",
   "execution_count": 2,
   "metadata": {},
   "outputs": [],
   "source": [
    "# class Solution:\n",
    "#     def parseBoolExpr(self, expression: str) -> bool:\n",
    "#         operators = []\n",
    "#         operands = [[]]\n",
    "#         for char in expression:\n",
    "#             if char == '!':\n",
    "#                 operators.append(lambda x: not x[0])\n",
    "#             if char == '|':\n",
    "#                 operators.append(any)\n",
    "#             if char == '&':\n",
    "#                 operators.append(all)\n",
    "#             if char == '(':\n",
    "#                 operands.append([])\n",
    "#             if char == 't':\n",
    "#                 operands[-1].append(True)\n",
    "#             if char == 'f':\n",
    "#                 operands[-1].append(False)\n",
    "#             if char == ')':\n",
    "#                 l = operands.pop()\n",
    "#                 operands[-1].append(operators.pop()(l))\n",
    "#         return operands[0][0]"
   ]
  },
  {
   "cell_type": "code",
   "execution_count": 3,
   "metadata": {},
   "outputs": [],
   "source": [
    "def pbe(expr: str) -> bool:\n",
    "    operators = []\n",
    "    operands = [[]]\n",
    "    for char in expr:\n",
    "        if char in ('!', '|', '&'):\n",
    "            operators.append(char)\n",
    "        elif char == '(':\n",
    "            operands.append([])\n",
    "        elif char == 't':\n",
    "            operands[-1].append(True)\n",
    "        elif char == 'f':\n",
    "            operands[-1].append(False)\n",
    "        elif char == ')':\n",
    "            op = operators.pop()\n",
    "            l = operands.pop()\n",
    "            if op == '!':\n",
    "                operands[-1].append(not l[0])\n",
    "            elif op == '&':\n",
    "                operands[-1].append(all(l))\n",
    "            elif op == '|':\n",
    "                operands[-1].append(any(l))\n",
    "    return operands[0][0]"
   ]
  },
  {
   "cell_type": "code",
   "execution_count": 4,
   "metadata": {},
   "outputs": [],
   "source": [
    "# def pbe(expr: str) -> bool:    \n",
    "#     operators = []\n",
    "#     operands = [[]]\n",
    "#     for char in expr:\n",
    "#         if char == ',':\n",
    "#             continue\n",
    "#         elif char == '!':\n",
    "#             operators.append(lambda x: not x[0])\n",
    "#         elif char == '|':\n",
    "#             operators.append(any)\n",
    "#         elif char == '&':\n",
    "#             operators.append(all)\n",
    "#         elif char == '(':\n",
    "#             operands.append([])\n",
    "#         elif char == 't':\n",
    "#             operands[-1].append(True)\n",
    "#         elif char == 'f':\n",
    "#             operands[-1].append(False)\n",
    "#         elif char == ')':\n",
    "#             l = operands.pop()\n",
    "#             operands[-1].append(operators.pop()(l))\n",
    "#     return operands[0][0]"
   ]
  },
  {
   "cell_type": "code",
   "execution_count": 5,
   "metadata": {},
   "outputs": [
    {
     "data": {
      "text/plain": [
       "True"
      ]
     },
     "execution_count": 5,
     "metadata": {},
     "output_type": "execute_result"
    }
   ],
   "source": [
    "pbe('!(f)')"
   ]
  },
  {
   "cell_type": "code",
   "execution_count": 6,
   "metadata": {},
   "outputs": [
    {
     "data": {
      "text/plain": [
       "False"
      ]
     },
     "execution_count": 6,
     "metadata": {},
     "output_type": "execute_result"
    }
   ],
   "source": [
    "pbe('|(&(t,f,!(f)),!(t))')"
   ]
  },
  {
   "cell_type": "code",
   "execution_count": 7,
   "metadata": {},
   "outputs": [
    {
     "data": {
      "text/plain": [
       "False"
      ]
     },
     "execution_count": 7,
     "metadata": {},
     "output_type": "execute_result"
    }
   ],
   "source": [
    "pbe('|(&(t,f,t),!(t))')"
   ]
  },
  {
   "cell_type": "code",
   "execution_count": 8,
   "metadata": {},
   "outputs": [
    {
     "data": {
      "text/plain": [
       "True"
      ]
     },
     "execution_count": 8,
     "metadata": {},
     "output_type": "execute_result"
    }
   ],
   "source": [
    "pbe('|(&(t,f,t),t,!(t))')"
   ]
  },
  {
   "cell_type": "code",
   "execution_count": 9,
   "metadata": {},
   "outputs": [
    {
     "data": {
      "text/plain": [
       "False"
      ]
     },
     "execution_count": 9,
     "metadata": {},
     "output_type": "execute_result"
    }
   ],
   "source": [
    "pbe('&(t,f,t)')"
   ]
  },
  {
   "cell_type": "code",
   "execution_count": 10,
   "metadata": {},
   "outputs": [
    {
     "data": {
      "text/plain": [
       "False"
      ]
     },
     "execution_count": 10,
     "metadata": {},
     "output_type": "execute_result"
    }
   ],
   "source": [
    "pbe('!(t)')"
   ]
  },
  {
   "cell_type": "code",
   "execution_count": 11,
   "metadata": {},
   "outputs": [
    {
     "data": {
      "text/plain": [
       "False"
      ]
     },
     "execution_count": 11,
     "metadata": {},
     "output_type": "execute_result"
    }
   ],
   "source": [
    "pbe('|(f,f)')"
   ]
  },
  {
   "cell_type": "code",
   "execution_count": 12,
   "metadata": {},
   "outputs": [
    {
     "data": {
      "text/plain": [
       "False"
      ]
     },
     "execution_count": 12,
     "metadata": {},
     "output_type": "execute_result"
    }
   ],
   "source": [
    "pbe('&(t,f,t)')"
   ]
  },
  {
   "cell_type": "code",
   "execution_count": 13,
   "metadata": {},
   "outputs": [
    {
     "data": {
      "text/plain": [
       "False"
      ]
     },
     "execution_count": 13,
     "metadata": {},
     "output_type": "execute_result"
    }
   ],
   "source": [
    "pbe('!(t)')"
   ]
  }
 ],
 "metadata": {
  "kernelspec": {
   "display_name": "Python 3",
   "language": "python",
   "name": "python3"
  },
  "language_info": {
   "codemirror_mode": {
    "name": "ipython",
    "version": 3
   },
   "file_extension": ".py",
   "mimetype": "text/x-python",
   "name": "python",
   "nbconvert_exporter": "python",
   "pygments_lexer": "ipython3",
   "version": "3.7.1"
  }
 },
 "nbformat": 4,
 "nbformat_minor": 2
}
